{
 "cells": [
  {
   "cell_type": "code",
   "execution_count": 1,
   "id": "d9173786-ae5a-450d-94e7-fbc62e0be22c",
   "metadata": {},
   "outputs": [],
   "source": [
    "# %pip install pyspark\n",
    "\n",
    "from pyspark import SparkContext\n",
    "from pyspark.sql.session import SparkSession\n",
    "from pyspark.sql.functions import broadcast, substring, col, avg, monotonically_increasing_id, lit\n",
    "from pyspark.sql.types import StructType, StructField, StringType"
   ]
  },
  {
   "cell_type": "code",
   "execution_count": 2,
   "id": "a822582b-8a6e-4c0a-8601-0d0c94a1ab60",
   "metadata": {},
   "outputs": [
    {
     "name": "stderr",
     "output_type": "stream",
     "text": [
      "Setting default log level to \"WARN\".\n",
      "To adjust logging level use sc.setLogLevel(newLevel). For SparkR, use setLogLevel(newLevel).\n",
      "24/04/18 08:40:39 WARN NativeCodeLoader: Unable to load native-hadoop library for your platform... using builtin-java classes where applicable\n"
     ]
    }
   ],
   "source": [
    "sc = SparkContext(appName=\"Simple App\")\n",
    "spark = SparkSession(sc)"
   ]
  },
  {
   "cell_type": "code",
   "execution_count": 3,
   "id": "e34b407f-53c0-4c72-b987-ffd65f588e58",
   "metadata": {},
   "outputs": [
    {
     "name": "stderr",
     "output_type": "stream",
     "text": [
      "                                                                                \r"
     ]
    }
   ],
   "source": [
    "df_schema=StructType([StructField('Scorecard', StringType(), True), \n",
    "                        StructField('Team 1', StringType(), True), \n",
    "                        StructField('Team 2', StringType(), True), \n",
    "                        StructField('Winner', StringType(), True),\n",
    "                        StructField('Margin', StringType(), True), \n",
    "                        StructField('Ground', StringType(), True),\n",
    "                        StructField('Match Date', StringType(), True)\n",
    "                       ])\n",
    "\n",
    "df = spark.read.csv('../files/cricketMatchesDataset.csv', header=True)"
   ]
  },
  {
   "cell_type": "code",
   "execution_count": 4,
   "id": "e622b123-6df3-49d1-a20f-b20325902578",
   "metadata": {},
   "outputs": [
    {
     "name": "stderr",
     "output_type": "stream",
     "text": [
      "[Stage 1:>                                                          (0 + 1) / 1]\r"
     ]
    },
    {
     "name": "stdout",
     "output_type": "stream",
     "text": [
      "+-----------+-----------+-----------+------------+---------------+---+\n",
      "|     Team 1|     Team 2|     Winner|      Ground|     Match Date| id|\n",
      "+-----------+-----------+-----------+------------+---------------+---+\n",
      "|    England|      India|    England|       Leeds|   Jul 13, 1974|  0|\n",
      "|    England|      India|    England|    The Oval|Jul 15-16, 1974|  1|\n",
      "|    England|      India|    England|      Lord's|    Jun 7, 1975|  2|\n",
      "|East Africa|      India|      India|       Leeds|   Jun 11, 1975|  3|\n",
      "|      India|New Zealand|New Zealand|  Manchester|   Jun 14, 1975|  4|\n",
      "|New Zealand|      India|New Zealand|Christchurch|   Feb 21, 1976|  5|\n",
      "|New Zealand|      India|New Zealand|    Auckland|   Feb 22, 1976|  6|\n",
      "|   Pakistan|      India|      India|      Quetta|    Oct 1, 1978|  7|\n",
      "|   Pakistan|      India|   Pakistan|     Sialkot|   Oct 13, 1978|  8|\n",
      "|   Pakistan|      India|   Pakistan|     Sahiwal|    Nov 3, 1978|  9|\n",
      "|      India|West Indies|West Indies|  Birmingham|    Jun 9, 1979| 10|\n",
      "|      India|New Zealand|New Zealand|       Leeds|   Jun 13, 1979| 11|\n",
      "|      India|  Sri Lanka|  Sri Lanka|  Manchester|Jun 16-18, 1979| 12|\n",
      "|  Australia|      India|      India|   Melbourne|    Dec 6, 1980| 13|\n",
      "|      India|New Zealand|      India|       Perth|    Dec 9, 1980| 14|\n",
      "|  Australia|      India|  Australia|      Sydney|   Dec 18, 1980| 15|\n",
      "|      India|New Zealand|New Zealand|    Brisbane|   Dec 21, 1980| 16|\n",
      "|      India|New Zealand|      India|    Adelaide|   Dec 23, 1980| 17|\n",
      "|  Australia|      India|  Australia|      Sydney|    Jan 8, 1981| 18|\n",
      "|      India|New Zealand|New Zealand|   Melbourne|   Jan 10, 1981| 19|\n",
      "+-----------+-----------+-----------+------------+---------------+---+\n",
      "only showing top 20 rows\n",
      "\n"
     ]
    },
    {
     "name": "stderr",
     "output_type": "stream",
     "text": [
      "                                                                                \r"
     ]
    }
   ],
   "source": [
    "india_df = df.select(col('Team 1'), \n",
    "                     col('Team 2'), \n",
    "                     col('Winner'), \n",
    "                     col('Ground'), \n",
    "                     col('Match Date')\n",
    "                    ).where((df[\"Team 1\"].contains(\"India\")) | (df[\"Team 2\"].contains(\"India\"))\n",
    "                           ).withColumn('id', monotonically_increasing_id()).cache()\n",
    "india_df.show()"
   ]
  },
  {
   "cell_type": "code",
   "execution_count": 5,
   "id": "edf1cdb6-0e6c-4091-9af3-0ecad0ffe1e5",
   "metadata": {},
   "outputs": [
    {
     "name": "stdout",
     "output_type": "stream",
     "text": [
      "Total Matches Win Percentage: 51%\n",
      "Total Matches Lost Percentage: 45%\n",
      "Total Matches Tie Percentage: 4%\n"
     ]
    }
   ],
   "source": [
    "total_matches = india_df.count()\n",
    "\n",
    "total_matches_won_home = india_df.where((india_df[\"Team 1\"] == \"India\") & (india_df[\"Winner\"] == \"India\")).count() \n",
    "total_matches_won_away = india_df.where((india_df[\"Team 2\"] == \"India\") & (india_df[\"Winner\"] == \"India\")).count()\n",
    "total_matches_won = total_matches_won_home + total_matches_won_away\n",
    "total_matches_won_percentage = total_matches_won/total_matches\n",
    "\n",
    "total_matches_lost_home = india_df.where((india_df[\"Team 1\"] == \"India\") & (india_df[\"Winner\"] != \"India\") & (india_df[\"Winner\"] != \"no result\")).count()\n",
    "total_matches_lost_away = india_df.where((india_df[\"Team 2\"] == \"India\") & (india_df[\"Winner\"] != \"India\") & (india_df[\"Winner\"] != \"no result\")).count()\n",
    "total_matches_lost = total_matches_lost_home + total_matches_lost_away\n",
    "total_matches_lost_percentage = total_matches_lost/total_matches\n",
    "\n",
    "total_matches_tie_home = india_df.where((india_df[\"Team 1\"] == \"India\") & (india_df[\"Winner\"] == \"no result\")).count()\n",
    "total_matches_tie_away = india_df.where((india_df[\"Team 2\"] == \"India\") & (india_df[\"Winner\"] == \"no result\")).count()\n",
    "total_matches_tie = total_matches_tie_home + total_matches_tie_away\n",
    "total_matches_tie_percentage = total_matches_tie/total_matches\n",
    "\n",
    "print (f\"Total Matches Win Percentage: {total_matches_won_percentage:.0%}\")\n",
    "print (f\"Total Matches Lost Percentage: {total_matches_lost_percentage:.0%}\")\n",
    "print (f\"Total Matches Tie Percentage: {total_matches_tie_percentage:.0%}\")"
   ]
  },
  {
   "cell_type": "code",
   "execution_count": 6,
   "id": "1940bacf-8e45-48a7-a846-5567a855d947",
   "metadata": {},
   "outputs": [
    {
     "name": "stdout",
     "output_type": "stream",
     "text": [
      "Home Matches Win Percentage: 66%\n",
      "Home Matches Lost Percentage: 56%\n",
      "Home Matches Tie Percentage: 42%\n"
     ]
    }
   ],
   "source": [
    "total_matches_won_home_percentage = total_matches_won_home/total_matches_won\n",
    "total_matches_lost_home_percentage = total_matches_lost_home/total_matches_lost\n",
    "total_matches_tie_home_percentage = total_matches_tie_home/total_matches_tie\n",
    "\n",
    "print (f\"Home Matches Win Percentage: {total_matches_won_home_percentage:.0%}\")\n",
    "print (f\"Home Matches Lost Percentage: {total_matches_lost_home_percentage:.0%}\")\n",
    "print (f\"Home Matches Tie Percentage: {total_matches_tie_home_percentage:.0%}\")"
   ]
  },
  {
   "cell_type": "code",
   "execution_count": 7,
   "id": "78a2838b-0ad7-47fc-92ef-2e37d48e503e",
   "metadata": {},
   "outputs": [
    {
     "name": "stdout",
     "output_type": "stream",
     "text": [
      "Away Matches Win Percentage: 34%\n",
      "Away Matches Lost Percentage: 44%\n",
      "Away Matches Tie Percentage: 57%\n"
     ]
    }
   ],
   "source": [
    "total_matches_won_away_percentage = total_matches_won_away/total_matches_won\n",
    "total_matches_lost_away_percentage = total_matches_lost_away/total_matches_lost\n",
    "total_matches_tie_away_percentage = total_matches_tie_away/total_matches_tie\n",
    "\n",
    "print (f\"Away Matches Win Percentage: {total_matches_won_away_percentage:.0%}\")\n",
    "print (f\"Away Matches Lost Percentage: {total_matches_lost_away_percentage:.0%}\")\n",
    "print (f\"Away Matches Tie Percentage: {total_matches_tie_away_percentage:.0%}\")"
   ]
  },
  {
   "cell_type": "code",
   "execution_count": 8,
   "id": "6fb423c4-ce32-4c38-a31f-7812a2c47783",
   "metadata": {},
   "outputs": [
    {
     "name": "stdout",
     "output_type": "stream",
     "text": [
      "+------------+----------------+\n",
      "|   Adversary|Total Encounters|\n",
      "+------------+----------------+\n",
      "|   Sri Lanka|             155|\n",
      "|    Pakistan|             129|\n",
      "|   Australia|             128|\n",
      "| West Indies|             121|\n",
      "| New Zealand|             101|\n",
      "|     England|              96|\n",
      "|South Africa|              77|\n",
      "|    Zimbabwe|              63|\n",
      "|  Bangladesh|              33|\n",
      "|       Kenya|              13|\n",
      "|      U.A.E.|               3|\n",
      "|     Ireland|               3|\n",
      "+------------+----------------+\n",
      "\n",
      "First Total Encounters Adversary: Row(Adversary='Sri Lanka', Total Encounters=155)\n",
      "Fifth Total Encounters Adversary Name: Row(Adversary='New Zealand')\n",
      "Count of how many adversaries names starts with the letter S: 2\n"
     ]
    }
   ],
   "source": [
    "indiaHome_df = india_df.where(col('Team 1').contains('India')).groupBy('Team 1','Team 2').count()\n",
    "indiaAway_df = india_df.where(col('Team 2').contains('India')).groupBy('Team 1','Team 2').count()\n",
    "indiaAway_df = indiaAway_df.select(col('Team 2').alias('Team 11'), col('Team 1').alias('Team 22'), col('count').alias(\"count 2\"))\n",
    "\n",
    "cond = [indiaHome_df[\"Team 1\"] == indiaAway_df[\"Team 11\"], indiaHome_df[\"Team 2\"] == indiaAway_df[\"Team 22\"]]\n",
    "indiaHomeAway_df = indiaHome_df.join(broadcast(indiaAway_df), cond)\n",
    "\n",
    "topAdversary_df = indiaHomeAway_df.select(\n",
    "    col('Team 2').alias('Adversary'), \n",
    "    (col('count') + col('count 2')).alias('Total Encounters')\n",
    "    ).orderBy(col('Total Encounters').desc())\n",
    "\n",
    "topAdversary_df.show()\n",
    "\n",
    "print(f\"First Total Encounters Adversary: {topAdversary_df.collect()[0]}\")\n",
    "print(f\"Fifth Total Encounters Adversary Name: {topAdversary_df.select('Adversary').collect()[4]}\")\n",
    "print(f\"Count of how many adversaries names starts with the letter S: {topAdversary_df.where(col('Adversary').startswith('S')).count()}\")"
   ]
  },
  {
   "cell_type": "code",
   "execution_count": 9,
   "id": "fecaf588-82e1-4aa0-b45e-ba3258d8f99b",
   "metadata": {},
   "outputs": [
    {
     "name": "stdout",
     "output_type": "stream",
     "text": [
      "+------------+----------+------------+\n",
      "|   Adversary|Total Wins|Total Losses|\n",
      "+------------+----------+------------+\n",
      "|      U.A.E.|         3|           0|\n",
      "|    Zimbabwe|        51|          12|\n",
      "|       Kenya|        11|           0|\n",
      "|     England|        52|          44|\n",
      "|South Africa|        29|          48|\n",
      "|     Ireland|         3|           0|\n",
      "| West Indies|        56|          65|\n",
      "|   Sri Lanka|        88|          67|\n",
      "|  Bangladesh|        27|           0|\n",
      "|   Australia|        45|          83|\n",
      "|    Pakistan|        52|          77|\n",
      "| New Zealand|        51|          50|\n",
      "+------------+----------+------------+\n",
      "\n"
     ]
    }
   ],
   "source": [
    "indiaHomeWin_df = india_df.where((india_df[\"Team 1\"].contains(\"India\")) & (india_df[\"Winner\"] == \"India\")).groupBy(\"Team 1\",\"Team 2\").count()\n",
    "indiaAwayWin_df = india_df.where((india_df[\"Team 2\"].contains(\"India\")) & (india_df[\"Winner\"] == \"India\")).groupBy(\"Team 1\",\"Team 2\").count()\n",
    "indiaAwayWin_df = indiaAwayWin_df.select(indiaAwayWin_df[\"Team 2\"].alias(\"Team 11\"), indiaAwayWin_df[\"Team 1\"].alias(\"Team 22\"), indiaAwayWin_df[\"count\"].alias(\"count 2\"))\n",
    "\n",
    "cond = [indiaHomeWin_df[\"Team 1\"] == indiaAwayWin_df[\"Team 11\"], indiaHomeWin_df[\"Team 2\"] == indiaAwayWin_df[\"Team 22\"]]\n",
    "indiaHomeAwayWin_df = indiaHomeWin_df.join(broadcast(indiaAwayWin_df), cond)\n",
    "indiaHomeAwayWin_df = indiaHomeAwayWin_df.select(indiaHomeAwayWin_df[\"Team 1\"], indiaHomeAwayWin_df[\"Team 2\"], (indiaHomeAwayWin_df[\"count\"] + indiaHomeAwayWin_df[\"count 2\"]).alias(\"Total Wins\"))\n",
    "#indiaHomeAwayWin_df.show()\n",
    "\n",
    "indiaHomeLost_df = india_df.where((india_df[\"Team 1\"].contains(\"India\")) & (india_df[\"Winner\"] != \"India\")).groupBy(\"Team 1\",\"Team 2\").count()\n",
    "indiaAwayLost_df = india_df.where((india_df[\"Team 2\"].contains(\"India\")) & (india_df[\"Winner\"] != \"India\")).groupBy(\"Team 1\",\"Team 2\").count()\n",
    "indiaAwayLost_df = indiaAwayLost_df.select(indiaAwayLost_df[\"Team 2\"].alias(\"Team 11\"), indiaAwayLost_df[\"Team 1\"].alias(\"Team 22\"), indiaAwayLost_df[\"count\"].alias(\"count 2\"))\n",
    "\n",
    "cond = [indiaHomeLost_df[\"Team 1\"] == indiaAwayLost_df[\"Team 11\"], indiaHomeLost_df[\"Team 2\"] == indiaAwayLost_df[\"Team 22\"]]\n",
    "indiaHomeAwayLost_df = indiaHomeLost_df.join(broadcast(indiaAwayLost_df), cond)\n",
    "indiaHomeAwayLost_df = indiaHomeAwayLost_df.select(indiaHomeAwayLost_df[\"Team 1\"].alias(\"Team 11\"), indiaHomeAwayLost_df[\"Team 2\"].alias(\"Team 22\"), (indiaHomeAwayLost_df[\"count\"] + indiaHomeAwayLost_df[\"count 2\"]).alias(\"Total Losses\"))\n",
    "#indiaHomeAwayLost_df.show()\n",
    "\n",
    "cond = [indiaHomeAwayWin_df[\"Team 1\"] == indiaHomeAwayLost_df[\"Team 11\"], indiaHomeAwayWin_df[\"Team 2\"] == indiaHomeAwayLost_df[\"Team 22\"]]\n",
    "indiaHomeAwayWinLost_df = indiaHomeAwayWin_df.join(broadcast(indiaHomeAwayLost_df), cond, how=\"leftouter\")\n",
    "indiaHomeAwayWinLost_df = indiaHomeAwayWinLost_df.select(indiaHomeAwayWinLost_df[\"Team 2\"].alias(\"Adversary\"), indiaHomeAwayWinLost_df[\"Total Wins\"], indiaHomeAwayWinLost_df[\"Total Losses\"]).fillna(0)\n",
    "\n",
    "indiaHomeAwayWinLost_df.show(50)"
   ]
  },
  {
   "cell_type": "code",
   "execution_count": 10,
   "id": "2e373825-d001-4f0c-905b-d1033d629df0",
   "metadata": {},
   "outputs": [
    {
     "name": "stdout",
     "output_type": "stream",
     "text": [
      "+------------------+-----+\n",
      "|            Ground|count|\n",
      "+------------------+-----+\n",
      "|           Sharjah|   60|\n",
      "|           Kolkata|   21|\n",
      "|             Dhaka|   21|\n",
      "|         Bengaluru|   20|\n",
      "|           Toronto|   19|\n",
      "|             Delhi|   19|\n",
      "|            Mumbai|   18|\n",
      "|            Nagpur|   17|\n",
      "|         Ahmedabad|   16|\n",
      "|           Cuttack|   16|\n",
      "|            Mohali|   14|\n",
      "|            Kanpur|   14|\n",
      "|Hyderabad (Deccan)|   13|\n",
      "|            Rajkot|   13|\n",
      "|          Vadodara|   12|\n",
      "|           Chennai|   12|\n",
      "|            Indore|   12|\n",
      "|            Jaipur|   12|\n",
      "|              Pune|   11|\n",
      "|           Gwalior|   10|\n",
      "+------------------+-----+\n",
      "only showing top 20 rows\n",
      "\n",
      "+-------------+-----+\n",
      "|       Ground|count|\n",
      "+-------------+-----+\n",
      "|Colombo (RPS)|   35|\n",
      "|        Dhaka|   21|\n",
      "|       Sydney|   17|\n",
      "|       Harare|   16|\n",
      "|Port of Spain|   16|\n",
      "|    Melbourne|   15|\n",
      "|     Dambulla|   13|\n",
      "|      Sharjah|   12|\n",
      "|Colombo (SSC)|   12|\n",
      "|     The Oval|    9|\n",
      "|      Karachi|    9|\n",
      "|     Brisbane|    8|\n",
      "|     Auckland|    8|\n",
      "|       Durban|    8|\n",
      "|    Centurion|    7|\n",
      "|     Kingston|    7|\n",
      "|     Bulawayo|    7|\n",
      "|        Leeds|    7|\n",
      "|   Wellington|    6|\n",
      "| Christchurch|    6|\n",
      "+-------------+-----+\n",
      "only showing top 20 rows\n",
      "\n"
     ]
    }
   ],
   "source": [
    "indiaMostHomeGround = india_df.where(india_df[\"Team 1\"].contains(\"India\")).groupBy(\"Ground\").count()\n",
    "indiaMostHomeGround.orderBy(indiaMostHomeGround['count'].desc()).show()         \n",
    "\n",
    "indiaMostAwayGround = india_df.where(india_df[\"Team 2\"].contains(\"India\")).groupBy(\"Ground\").count()\n",
    "indiaMostAwayGround.orderBy(indiaMostAwayGround['count'].desc()).show()  "
   ]
  },
  {
   "cell_type": "code",
   "execution_count": 11,
   "id": "5c300ae9-c964-43fc-b0bc-bff8994617af",
   "metadata": {},
   "outputs": [
    {
     "name": "stdout",
     "output_type": "stream",
     "text": [
      "+----+----+--------+-------------------+\n",
      "|Year|Wins|Not Wins|     Win Percentage|\n",
      "+----+----+--------+-------------------+\n",
      "|1975|   1|       2| 0.3333333333333333|\n",
      "|1978|   1|       2| 0.3333333333333333|\n",
      "|1980|   3|       2|                0.6|\n",
      "|1981|   1|       8| 0.1111111111111111|\n",
      "|1982|   5|       4| 0.5555555555555556|\n",
      "|1983|   9|      10|0.47368421052631576|\n",
      "|1984|   2|       9|0.18181818181818182|\n",
      "|1985|   9|       6|                0.6|\n",
      "|1986|  12|      15| 0.4444444444444444|\n",
      "|1987|  12|      10| 0.5454545454545454|\n",
      "|1988|  12|       8|                0.6|\n",
      "|1989|   4|      14| 0.2222222222222222|\n",
      "|1990|   6|       7|0.46153846153846156|\n",
      "|1991|   8|       6| 0.5714285714285714|\n",
      "|1992|   6|      15| 0.2857142857142857|\n",
      "|1993|  11|       7| 0.6111111111111112|\n",
      "|1994|  16|       9|               0.64|\n",
      "|1995|   7|       5| 0.5833333333333334|\n",
      "|1996|  13|      19|            0.40625|\n",
      "|1997|  10|      29| 0.2564102564102564|\n",
      "|1998|  24|      16|                0.6|\n",
      "|1999|  21|      22| 0.4883720930232558|\n",
      "|2000|  15|      19| 0.4411764705882353|\n",
      "|2001|  12|      12|                0.5|\n",
      "|2002|  19|      16| 0.5428571428571428|\n",
      "|2003|  16|      12| 0.5714285714285714|\n",
      "|2004|  15|      17|            0.46875|\n",
      "|2005|  15|      12| 0.5555555555555556|\n",
      "|2006|  13|      17|0.43333333333333335|\n",
      "|2007|  20|      17| 0.5405405405405406|\n",
      "|2008|  19|      10| 0.6551724137931034|\n",
      "|2009|  17|      14| 0.5483870967741935|\n",
      "|2010|  17|      10| 0.6296296296296297|\n",
      "|2011|  21|      13| 0.6176470588235294|\n",
      "|2012|   9|       8| 0.5294117647058824|\n",
      "|2013|  22|      12| 0.6470588235294118|\n",
      "|2014|  14|      10| 0.5833333333333334|\n",
      "|2015|  13|      10| 0.5652173913043478|\n",
      "|2016|   7|       6| 0.5384615384615384|\n",
      "|2017|  19|       7| 0.7307692307692307|\n",
      "+----+----+--------+-------------------+\n",
      "\n",
      "+-----+---------+\n",
      "| Team|avg(Wins)|\n",
      "+-----+---------+\n",
      "|India|     11.9|\n",
      "+-----+---------+\n",
      "\n"
     ]
    }
   ],
   "source": [
    "india_df = india_df.withColumn(\"Year\", substring(\"Match Date\",-4,4))\n",
    "\n",
    "indiaMatchesWonPerYear_df = india_df.where(col(\"Winner\") == \"India\").groupBy(\"Year\").count()\n",
    "indiaMatchesWonPerYear_df = indiaMatchesWonPerYear_df.select(col(\"Year\"), col(\"count\").alias(\"Wins\")) \n",
    "indiaMatchesNotWonPerYear_df = india_df.where(col(\"Winner\") != \"India\").groupBy(\"Year\").count()\n",
    "indiaMatchesNotWonPerYear_df = indiaMatchesNotWonPerYear_df.select(col(\"Year\"), col(\"count\").alias(\"Not Wins\"))\n",
    "\n",
    "indiaMatchesPerYear_df = indiaMatchesWonPerYear_df.join(indiaMatchesNotWonPerYear_df, on=\"Year\")\n",
    "indiaMatchesPerYear_df.withColumn(\"Win Percentage\", (col('Wins')/(col('Wins') + col('Not Wins')))).orderBy(\"Year\").show(40)\n",
    "\n",
    "indiaMatchesPerYear_df = indiaMatchesPerYear_df.withColumn(\"Team\", lit(\"India\"))\n",
    "indiaAvgWin = indiaMatchesPerYear_df.groupBy(\"Team\").agg(avg(col(\"Wins\")))\n",
    "indiaAvgWin.show()"
   ]
  }
 ],
 "metadata": {
  "kernelspec": {
   "display_name": "Python 3 (ipykernel)",
   "language": "python",
   "name": "python3"
  },
  "language_info": {
   "codemirror_mode": {
    "name": "ipython",
    "version": 3
   },
   "file_extension": ".py",
   "mimetype": "text/x-python",
   "name": "python",
   "nbconvert_exporter": "python",
   "pygments_lexer": "ipython3",
   "version": "3.12.3"
  }
 },
 "nbformat": 4,
 "nbformat_minor": 5
}
